{
 "cells": [
  {
   "cell_type": "code",
   "execution_count": null,
   "metadata": {},
   "outputs": [],
   "source": [
    "#Exerise 1\n",
    "import numpy as np\n",
    "\n",
    "#1.1 Open the file './data/befkbhalderstatkode.csv'\n",
    "filename = 'befkbhalderstatkode.csv' \n",
    "\n",
    "#1.2 Turn the csv file into a numpy ndarray\n",
    "data = np.genfromtxt(filename, delimiter=',', dtype=np.uint, skip_header=1)\n",
    "\n",
    "#1.3 Find out how many people lived in each of the 11 areas in 2015\n",
    "neighb = {1: 'Indre By', 2: 'Østerbro', 3: 'Nørrebro', 4: 'Vesterbro/Kgs. Enghave', \n",
    "       5: 'Valby', 6: 'Vanløse', 7: 'Brønshøj-Husum', 8: 'Bispebjerg', 9: 'Amager Øst', \n",
    "       10: 'Amager Vest', 99: 'Udenfor'}\n",
    "\n",
    "mask_indre_by = (data[:, 0] == 2015) & (data[:, 1] == 1)\n",
    "print(\"Sum of all people living in Indre By in 2015:\",np.sum(data[mask_indre_by][:, 4]))\n",
    "\n",
    "mask_østerbro = (data[:, 0] == 2015) & (data[:, 1] ==2)\n",
    "print(\"Sum of all people living in Østerbro in 2015:\", np.sum(data[mask_østerbro][:, 4]))\n",
    "\n",
    "mask_nørrebro = (data[:, 0] == 2015) & (data[:, 1] == 3)\n",
    "print(\"Sum of all people living in Nørrebro in 2015:\",np.sum(data[mask_indre_by][:, 4]))\n",
    "\n",
    "mask_vesterbro = (data[:, 0] == 2015) & (data[:, 1] == 4)\n",
    "print(\"Sum of all people living in Vesterbro in 2015:\",np.sum(data[mask_indre_by][:, 4]))\n",
    "\n",
    "mask_valby = (data[:, 0] == 2015) & (data[:, 1] == 5)\n",
    "print(\"Sum of all people living in Valby in 2015:\",np.sum(data[mask_valby][:, 4]))\n",
    "\n",
    "mask_vanløse = (data[:, 0] == 2015) & (data[:, 1] == 6)\n",
    "print(\"Sum of all people living in Vanløse in 2015:\",np.sum(data[mask_vanløse][:, 4]))\n",
    "\n",
    "mask_brønshøj_husum = (data[:, 0] == 2015) & (data[:, 1] == 7)\n",
    "print(\"Sum of all people living in Brønshøj-Husum in 2015:\",np.sum(data[mask_brønshøj_husum][:, 4]))\n",
    "\n",
    "mask_bispebjerg = (data[:, 0] == 2015) & (data[:, 1] == 8)\n",
    "print(\"Sum of all people living in Bispebjerg in 2015:\",np.sum(data[mask_bispebjerg][:, 4]))\n",
    "\n",
    "mask_amager = (data[:, 0] == 2015) & (data[:, 1] == 9)\n",
    "print(\"Sum of all people living in Amager in 2015:\",np.sum(data[mask_amager][:, 4]))\n",
    "\n",
    "mask_amager_vest = (data[:, 0] == 2015) & (data[:, 1] == 10)\n",
    "print(\"Sum of all people living in Amager Vest in 2015:\",np.sum(data[mask_amager_vest][:, 4]))\n",
    "\n",
    "mask_udenfor = (data[:, 0] == 2015) & (data[:, 1] == 99)\n",
    "print(\"Sum of all people living in Udenfor in 2015:\",np.sum(data[mask_udenfor][:, 4]))"
   ]
  },
  {
   "cell_type": "code",
   "execution_count": null,
   "metadata": {},
   "outputs": [],
   "source": [
    "#1.4 Make a bar plot to show the size of each city area from the smallest to the largest\n",
    "import matplotlib.pyplot as plt \n",
    "\n",
    "\n",
    "mask_year = (data[:, 0] == 2015)\n",
    "set_of_areas = np.unique(data[:, 1])\n",
    "set_population = np.array([np.sum(data[mask_year & (data[:, 1] == area)][:, 4])\n",
    "                          for area in set_of_areas])\n",
    "\n",
    "plt.bar(set_of_areas, set_population, width=0.6)"
   ]
  },
  {
   "cell_type": "code",
   "execution_count": null,
   "metadata": {},
   "outputs": [],
   "source": [
    "#1.5 Create a boolean mask to find out how many people above 65 years lived in Copenhagen in 2015\n",
    "\n",
    "copenhagen_65 = (data[:, 0] == 2015) & (data[:, 2] < 65)\n",
    "sum(copenhagen_65)"
   ]
  },
  {
   "cell_type": "code",
   "execution_count": null,
   "metadata": {},
   "outputs": [],
   "source": [
    "#1.6 How many of those were from the other nordic countries (not dk)\n",
    "copenhagen_65_no_danes = (data[:, 0] == 2015) & (data[:, 2] < 65) & (data[:,3] != 5100)\n",
    "sum(copenhagen_65_no_danes)\n"
   ]
  },
  {
   "cell_type": "code",
   "execution_count": null,
   "metadata": {},
   "outputs": [],
   "source": [
    "#1.7 Make a line plot showing the changes of number of people in vesterbro and østerbro from 1992 to 2015\n",
    "\n",
    "year = np.unique(data[:,0])\n",
    "vb_area = (data[:, 1] == 4)\n",
    "vb_pop = np.array([np.sum(data[vb_area & (data[:,0] == years)][:,4])\n",
    "                  for years in year])\n",
    "\n",
    "øb_area = (data[:, 1] == 2)\n",
    "øb_pop = np.array([np.sum(data[øb_area & (data[:,0] == years)][:,4])\n",
    "                  for years in year])\n",
    "\n",
    "line1 = plt.plot(year, vb_pop, color=\"Blue\")\n",
    "line2 = plt.plot(year, øb_pop, color=\"Red\")"
   ]
  }
 ],
 "metadata": {
  "kernelspec": {
   "display_name": "Python 3",
   "language": "python",
   "name": "python3"
  },
  "language_info": {
   "codemirror_mode": {
    "name": "ipython",
    "version": 3
   },
   "file_extension": ".py",
   "mimetype": "text/x-python",
   "name": "python",
   "nbconvert_exporter": "python",
   "pygments_lexer": "ipython3",
   "version": "3.7.6"
  }
 },
 "nbformat": 4,
 "nbformat_minor": 4
}
