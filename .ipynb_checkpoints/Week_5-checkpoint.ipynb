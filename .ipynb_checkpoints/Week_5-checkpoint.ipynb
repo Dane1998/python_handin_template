{
 "cells": [
  {
   "cell_type": "code",
   "execution_count": 2,
   "metadata": {},
   "outputs": [],
   "source": [
    "import numpy as np\n",
    "import pandas as pd\n",
    "import matplotlib.pyplot as plt\n"
   ]
  },
  {
   "cell_type": "code",
   "execution_count": 11,
   "metadata": {},
   "outputs": [
    {
     "data": {
      "text/html": [
       "<div>\n",
       "<style scoped>\n",
       "    .dataframe tbody tr th:only-of-type {\n",
       "        vertical-align: middle;\n",
       "    }\n",
       "\n",
       "    .dataframe tbody tr th {\n",
       "        vertical-align: top;\n",
       "    }\n",
       "\n",
       "    .dataframe thead th {\n",
       "        text-align: right;\n",
       "    }\n",
       "</style>\n",
       "<table border=\"1\" class=\"dataframe\">\n",
       "  <thead>\n",
       "    <tr style=\"text-align: right;\">\n",
       "      <th></th>\n",
       "      <th>CIVILSTAND</th>\n",
       "      <th>TID</th>\n",
       "      <th>INDHOLD</th>\n",
       "    </tr>\n",
       "  </thead>\n",
       "  <tbody>\n",
       "    <tr>\n",
       "      <th>0</th>\n",
       "      <td>Fraskilt</td>\n",
       "      <td>2008K1</td>\n",
       "      <td>428864</td>\n",
       "    </tr>\n",
       "    <tr>\n",
       "      <th>1</th>\n",
       "      <td>Fraskilt</td>\n",
       "      <td>2020K1</td>\n",
       "      <td>544588</td>\n",
       "    </tr>\n",
       "    <tr>\n",
       "      <th>2</th>\n",
       "      <td>I alt</td>\n",
       "      <td>2008K1</td>\n",
       "      <td>5475791</td>\n",
       "    </tr>\n",
       "    <tr>\n",
       "      <th>3</th>\n",
       "      <td>I alt</td>\n",
       "      <td>2020K1</td>\n",
       "      <td>5822763</td>\n",
       "    </tr>\n",
       "  </tbody>\n",
       "</table>\n",
       "</div>"
      ],
      "text/plain": [
       "  CIVILSTAND     TID  INDHOLD\n",
       "0   Fraskilt  2008K1   428864\n",
       "1   Fraskilt  2020K1   544588\n",
       "2      I alt  2008K1  5475791\n",
       "3      I alt  2020K1  5822763"
      ]
     },
     "execution_count": 11,
     "metadata": {},
     "output_type": "execute_result"
    }
   ],
   "source": [
    "# 5a\n",
    "url = \"https://api.statbank.dk/v1/data/FOLK1A/CSV?delimiter=Semicolon&CIVILSTAND=F%2CTOT&Tid=2008K1%2C2020k1\"\n",
    "data = pd.read_csv(url,sep=';')\n",
    "data"
   ]
  },
  {
   "cell_type": "code",
   "execution_count": 9,
   "metadata": {},
   "outputs": [
    {
     "name": "stdout",
     "output_type": "stream",
     "text": [
      "Percentage of divorced has grown from 7.832000892656421 to 9.352741988640101 between 2008 and 2020\n"
     ]
    }
   ],
   "source": [
    "divorced_filter = data['CIVILSTAND']==\"Fraskilt\"\n",
    "divorced = data[divorced_filter]\n",
    "alle = data[~divorced_filter]\n",
    "alle = alle.set_index(pd.Index([0,1]))\n",
    "result = divorced['INDHOLD']/alle['INDHOLD']*100\n",
    "print(f'Percentage of divorced has grown from {result[0]} to {result[1]} between 2008 and 2020')"
   ]
  },
  {
   "cell_type": "code",
   "execution_count": 15,
   "metadata": {},
   "outputs": [
    {
     "data": {
      "text/plain": [
       "2      101 København\n",
       "84        751 Aarhus\n",
       "104      851 Aalborg\n",
       "58        461 Odense\n",
       "71         630 Vejle\n",
       "Name: OMRÅDE, dtype: object"
      ]
     },
     "execution_count": 15,
     "metadata": {},
     "output_type": "execute_result"
    }
   ],
   "source": [
    "#5b\n",
    "city_sizes = 'https://api.statbank.dk/v1/data/FOLK1A/CSV?valuePresentation=CodeAndValue&delimiter=Semicolon&OMR%C3%85DE=*'\n",
    "data = pd.read_csv(city_sizes, sep=';')\n",
    "city_filter = data[\"OMRÅDE\"].str.startswith(\"0\")\n",
    "city_data = data[~city_filter]\n",
    "city_data_sorted = city_data.sort_values(by=[\"INDHOLD\"], ascending=False)\n",
    "biggest5 = city_data_sorted[:5][\"OMRÅDE\"]\n",
    "biggest5\n"
   ]
  },
  {
   "cell_type": "code",
   "execution_count": 16,
   "metadata": {},
   "outputs": [
    {
     "data": {
      "text/html": [
       "<div>\n",
       "<style scoped>\n",
       "    .dataframe tbody tr th:only-of-type {\n",
       "        vertical-align: middle;\n",
       "    }\n",
       "\n",
       "    .dataframe tbody tr th {\n",
       "        vertical-align: top;\n",
       "    }\n",
       "\n",
       "    .dataframe thead th {\n",
       "        text-align: right;\n",
       "    }\n",
       "</style>\n",
       "<table border=\"1\" class=\"dataframe\">\n",
       "  <thead>\n",
       "    <tr style=\"text-align: right;\">\n",
       "      <th></th>\n",
       "      <th>OMRÅDE</th>\n",
       "      <th>CIVILSTAND</th>\n",
       "      <th>TID</th>\n",
       "      <th>INDHOLD</th>\n",
       "    </tr>\n",
       "  </thead>\n",
       "  <tbody>\n",
       "    <tr>\n",
       "      <th>0</th>\n",
       "      <td>101 København</td>\n",
       "      <td>U Ugift</td>\n",
       "      <td>2021K1 2021K1</td>\n",
       "      <td>418133</td>\n",
       "    </tr>\n",
       "    <tr>\n",
       "      <th>1</th>\n",
       "      <td>101 København</td>\n",
       "      <td>TOT I alt</td>\n",
       "      <td>2021K1 2021K1</td>\n",
       "      <td>638117</td>\n",
       "    </tr>\n",
       "    <tr>\n",
       "      <th>2</th>\n",
       "      <td>751 Aarhus</td>\n",
       "      <td>U Ugift</td>\n",
       "      <td>2021K1 2021K1</td>\n",
       "      <td>211355</td>\n",
       "    </tr>\n",
       "    <tr>\n",
       "      <th>3</th>\n",
       "      <td>751 Aarhus</td>\n",
       "      <td>TOT I alt</td>\n",
       "      <td>2021K1 2021K1</td>\n",
       "      <td>352751</td>\n",
       "    </tr>\n",
       "    <tr>\n",
       "      <th>4</th>\n",
       "      <td>851 Aalborg</td>\n",
       "      <td>U Ugift</td>\n",
       "      <td>2021K1 2021K1</td>\n",
       "      <td>120287</td>\n",
       "    </tr>\n",
       "    <tr>\n",
       "      <th>5</th>\n",
       "      <td>851 Aalborg</td>\n",
       "      <td>TOT I alt</td>\n",
       "      <td>2021K1 2021K1</td>\n",
       "      <td>219487</td>\n",
       "    </tr>\n",
       "    <tr>\n",
       "      <th>6</th>\n",
       "      <td>461 Odense</td>\n",
       "      <td>U Ugift</td>\n",
       "      <td>2021K1 2021K1</td>\n",
       "      <td>113374</td>\n",
       "    </tr>\n",
       "    <tr>\n",
       "      <th>7</th>\n",
       "      <td>461 Odense</td>\n",
       "      <td>TOT I alt</td>\n",
       "      <td>2021K1 2021K1</td>\n",
       "      <td>205509</td>\n",
       "    </tr>\n",
       "    <tr>\n",
       "      <th>8</th>\n",
       "      <td>630 Vejle</td>\n",
       "      <td>U Ugift</td>\n",
       "      <td>2021K1 2021K1</td>\n",
       "      <td>55338</td>\n",
       "    </tr>\n",
       "    <tr>\n",
       "      <th>9</th>\n",
       "      <td>630 Vejle</td>\n",
       "      <td>TOT I alt</td>\n",
       "      <td>2021K1 2021K1</td>\n",
       "      <td>116992</td>\n",
       "    </tr>\n",
       "  </tbody>\n",
       "</table>\n",
       "</div>"
      ],
      "text/plain": [
       "          OMRÅDE CIVILSTAND            TID  INDHOLD\n",
       "0  101 København    U Ugift  2021K1 2021K1   418133\n",
       "1  101 København  TOT I alt  2021K1 2021K1   638117\n",
       "2     751 Aarhus    U Ugift  2021K1 2021K1   211355\n",
       "3     751 Aarhus  TOT I alt  2021K1 2021K1   352751\n",
       "4    851 Aalborg    U Ugift  2021K1 2021K1   120287\n",
       "5    851 Aalborg  TOT I alt  2021K1 2021K1   219487\n",
       "6     461 Odense    U Ugift  2021K1 2021K1   113374\n",
       "7     461 Odense  TOT I alt  2021K1 2021K1   205509\n",
       "8      630 Vejle    U Ugift  2021K1 2021K1    55338\n",
       "9      630 Vejle  TOT I alt  2021K1 2021K1   116992"
      ]
     },
     "execution_count": 16,
     "metadata": {},
     "output_type": "execute_result"
    }
   ],
   "source": [
    "#5b\n",
    "url = \"https://api.statbank.dk/v1/data/FOLK1A/CSV?valuePresentation=CodeAndValue&delimiter=Semicolon&OMR%C3%85DE=101%2C751%2C851%2C461%2C630&CIVILSTAND=U%2CTOT\"\n",
    "data = pd.read_csv(url,sep=\";\")\n",
    "top5_filter = data[\"OMRÅDE\"].isin(biggest5)\n",
    "top5 = data[top5_filter]\n",
    "top5\n"
   ]
  },
  {
   "cell_type": "code",
   "execution_count": 17,
   "metadata": {},
   "outputs": [
    {
     "data": {
      "text/html": [
       "<div>\n",
       "<style scoped>\n",
       "    .dataframe tbody tr th:only-of-type {\n",
       "        vertical-align: middle;\n",
       "    }\n",
       "\n",
       "    .dataframe tbody tr th {\n",
       "        vertical-align: top;\n",
       "    }\n",
       "\n",
       "    .dataframe thead th {\n",
       "        text-align: right;\n",
       "    }\n",
       "</style>\n",
       "<table border=\"1\" class=\"dataframe\">\n",
       "  <thead>\n",
       "    <tr style=\"text-align: right;\">\n",
       "      <th></th>\n",
       "      <th>OMRÅDE</th>\n",
       "      <th>PERCENT</th>\n",
       "    </tr>\n",
       "  </thead>\n",
       "  <tbody>\n",
       "    <tr>\n",
       "      <th>0</th>\n",
       "      <td>101 København</td>\n",
       "      <td>0.655261</td>\n",
       "    </tr>\n",
       "    <tr>\n",
       "      <th>2</th>\n",
       "      <td>751 Aarhus</td>\n",
       "      <td>0.599162</td>\n",
       "    </tr>\n",
       "    <tr>\n",
       "      <th>6</th>\n",
       "      <td>461 Odense</td>\n",
       "      <td>0.551674</td>\n",
       "    </tr>\n",
       "    <tr>\n",
       "      <th>4</th>\n",
       "      <td>851 Aalborg</td>\n",
       "      <td>0.548037</td>\n",
       "    </tr>\n",
       "    <tr>\n",
       "      <th>8</th>\n",
       "      <td>630 Vejle</td>\n",
       "      <td>0.473007</td>\n",
       "    </tr>\n",
       "  </tbody>\n",
       "</table>\n",
       "</div>"
      ],
      "text/plain": [
       "          OMRÅDE   PERCENT\n",
       "0  101 København  0.655261\n",
       "2     751 Aarhus  0.599162\n",
       "6     461 Odense  0.551674\n",
       "4    851 Aalborg  0.548037\n",
       "8      630 Vejle  0.473007"
      ]
     },
     "execution_count": 17,
     "metadata": {},
     "output_type": "execute_result"
    }
   ],
   "source": [
    "#5b\n",
    "all_top5 = top5[top5[\"CIVILSTAND\"] == \"TOT I alt\"]\n",
    "unmarried_top5 = top5.loc[top5[\"CIVILSTAND\"] == \"U Ugift\"].copy()\n",
    "unmarried_top5[\"PERCENT\"] = unmarried_top5[\"INDHOLD\"]/all_top5[\"INDHOLD\"].tolist()\n",
    "sorted_data = unmarried_top5 [[\"OMRÅDE\", \"PERCENT\"]].sort_values(\"PERCENT\", ascending=False)\n",
    "sorted_data"
   ]
  },
  {
   "cell_type": "code",
   "execution_count": 28,
   "metadata": {},
   "outputs": [
    {
     "data": {
      "text/plain": [
       "<matplotlib.axes._subplots.AxesSubplot at 0x7fb837851190>"
      ]
     },
     "execution_count": 28,
     "metadata": {},
     "output_type": "execute_result"
    },
    {
     "data": {
      "image/png": "[encoded data removed]",
      "text/plain": [
       "<Figure size 432x288 with 1 Axes>"
      ]
     },
     "metadata": {
      "needs_background": "light"
     },
     "output_type": "display_data"
    }
   ],
   "source": [
    "#5c\n",
    "url= \"https://api.statbank.dk/v1/data/FOLK1A/CSV?delimiter=Semicolon&ALDER=*%2C%2CIALT&CIVILSTAND=U%2CG%2CE%2CF%2CTOT&K%C3%98N=TOT&Tid=2008K4%2C2009K4%2C2010K4%2C2011K4%2C2012K4%2C2013K4%2C2014K4%2C2015K4%2C2016K4%2C2017K4%2C2018K4%2C2019K4%2C2020K4&OMR%C3%85DE=101%2C851%2C751%2C561%2C461%2C000\"   \n",
    "data = pd.read_csv(url,sep=\";\")\n",
    "TID=sorted(list(set(data[\"TID\"])))\n",
    "data_cph=data[data[\"OMRÅDE\"].isin([\"København\"])]\n",
    "total_age=data_cph[data_cph[\"ALDER\"].isin([\"I alt\"])]\n",
    "cph_total_age=total_age[~total_age[\"CIVILSTAND\"].isin([\"I alt\"])]\n",
    "\n",
    "data_by_status={}\n",
    "\n",
    "status=set(cph_total_age[\"CIVILSTAND\"])\n",
    "\n",
    "for st in status:\n",
    "    ctz=cph_total_age[cph_total_age[\"CIVILSTAND\"].isin([st])].sort_values(by=\"TID\")\n",
    "    citizens=pd.Series(tuple(ctz[\"INDHOLD\"]),index=TID)\n",
    "    \n",
    "    data_by_status[st]=citizens\n",
    "\n",
    "data_by_status\n",
    "result=pd.concat(data_by_status, axis=1)\n",
    "result\n",
    "\n",
    "result.plot.bar()\n"
   ]
  },
  {
   "cell_type": "code",
   "execution_count": 30,
   "metadata": {},
   "outputs": [
    {
     "data": {
      "text/plain": [
       "<matplotlib.axes._subplots.AxesSubplot at 0x7fb82b042910>"
      ]
     },
     "execution_count": 30,
     "metadata": {},
     "output_type": "execute_result"
    },
    {
     "data": {
      "text/plain": [
       "<Figure size 432x288 with 0 Axes>"
      ]
     },
     "metadata": {},
     "output_type": "display_data"
    },
    {
     "data": {
      "image/png": "[encoded data removed]",
      "text/plain": [
       "<Figure size 432x288 with 1 Axes>"
      ]
     },
     "metadata": {
      "needs_background": "light"
     },
     "output_type": "display_data"
    }
   ],
   "source": [
    "#5d\n",
    "url = \"https://api.statbank.dk/v1/data/FOLK1A/CSV?delimiter=Semicolon&ALDER=*%2C%2CIALT&CIVILSTAND=U%2CG%2CE%2CF%2CTOT&K%C3%98N=TOT&Tid=2008K4%2C2009K4%2C2010K4%2C2011K4%2C2012K4%2C2013K4%2C2014K4%2C2015K4%2C2016K4%2C2017K4%2C2018K4%2C2019K4%2C2020K4&OMR%C3%85DE=101%2C851%2C751%2C561%2C461%2C000\"\n",
    "data = pd.read_csv(url,sep=\";\")\n",
    "\n",
    "age=list(set(data[\"ALDER\"]))\n",
    "age.remove(\"I alt\")\n",
    "ages=sorted(age)\n",
    "\n",
    "ages_years=data[data[\"ALDER\"].isin(ages)]\n",
    "ages_data=ages_years[ages_years[\"TID\"].isin([\"2020K4\"])]\n",
    "ages_dk=ages_data[ages_data[\"OMRÅDE\"].isin([\"Hele landet\"])]\n",
    "\n",
    "\n",
    "ugift=ages_dk[ages_dk[\"CIVILSTAND\"].isin([\"Ugift\"])].iloc[:,[0,5]]\n",
    "_ugift=pd.DataFrame(data=list(ugift[\"INDHOLD\"]),index=ages,columns=[\"Never Married\"])\n",
    "\n",
    "gift=ages_dk[ages_dk[\"CIVILSTAND\"].isin([\"Gift/separeret\"])].iloc[:,[0,5]]\n",
    "_gift=pd.DataFrame(data=list(gift[\"INDHOLD\"]),index=ages,columns=[\"Married\"])\n",
    "\n",
    "\n",
    "\n",
    "x=pd.concat([_gift,_ugift],axis=1)\n",
    "plt.figure();\n",
    "x.plot()"
   ]
  }
 ],
 "metadata": {
  "kernelspec": {
   "display_name": "Python 3",
   "language": "python",
   "name": "python3"
  },
  "language_info": {
   "codemirror_mode": {
    "name": "ipython",
    "version": 3
   },
   "file_extension": ".py",
   "mimetype": "text/x-python",
   "name": "python",
   "nbconvert_exporter": "python",
   "pygments_lexer": "ipython3",
   "version": "3.7.6"
  }
 },
 "nbformat": 4,
 "nbformat_minor": 4
}
