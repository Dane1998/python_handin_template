{
 "cells": [
  {
   "cell_type": "markdown",
   "metadata": {},
   "source": [
    "# Week 1 handin"
   ]
  },
  {
   "cell_type": "markdown",
   "metadata": {},
   "source": [
    "## 01 Assignment\n",
    "Here is the text for the assignment linked to"
   ]
  },
  {
   "cell_type": "markdown",
   "metadata": {},
   "source": [
    "## 02 Status\n",
    "Alle opgaver er lavet ud over ekstra opgaverne. Jeg søgte en smule hjælp fra internettet, da jeg ikke kunne løse opgaven alene ud fra det udleveret materiale."
   ]
  },
  {
   "cell_type": "markdown",
   "metadata": {},
   "source": [
    "## 03 Solution part 1"
   ]
  },
  {
   "cell_type": "code",
   "execution_count": 2,
   "metadata": {},
   "outputs": [
    {
     "data": {
      "text/plain": [
       "['Hanne', 'Hans', 'Henning']"
      ]
     },
     "execution_count": 2,
     "metadata": {},
     "output_type": "execute_result"
    }
   ],
   "source": [
    "# 1.1\n",
    "named_list = [\"Hanne\", \"Frank\", \"Hans\", \"Henning\", \"Kenneth\"]\n",
    "letters = [\"H\"]\n",
    "sort_names = [names for names in named_list if names.startswith(\"H\")]\n",
    "sort_names# "
   ]
  },
  {
   "cell_type": "code",
   "execution_count": 2,
   "metadata": {},
   "outputs": [
    {
     "data": {
      "text/plain": [
       "[1,\n",
       " 4,\n",
       " 7,\n",
       " 10,\n",
       " 13,\n",
       " 16,\n",
       " 19,\n",
       " 22,\n",
       " 25,\n",
       " 28,\n",
       " 31,\n",
       " 34,\n",
       " 37,\n",
       " 40,\n",
       " 43,\n",
       " 46,\n",
       " 49,\n",
       " 52,\n",
       " 55,\n",
       " 58,\n",
       " 61,\n",
       " 64,\n",
       " 67,\n",
       " 70,\n",
       " 73,\n",
       " 76,\n",
       " 79,\n",
       " 82,\n",
       " 85,\n",
       " 88,\n",
       " 91,\n",
       " 94,\n",
       " 97,\n",
       " 100]"
      ]
     },
     "execution_count": 2,
     "metadata": {},
     "output_type": "execute_result"
    }
   ],
   "source": [
    "# 1.2\n",
    "\n",
    "numbered_list = list(range(1, 101, 3))\n",
    "numbered_list"
   ]
  },
  {
   "cell_type": "code",
   "execution_count": 8,
   "metadata": {
    "scrolled": true
   },
   "outputs": [
    {
     "data": {
      "text/plain": [
       "[(5, 'Lasse'), (6, 'Daniel'), (5, 'Artem'), (6, 'Johnny')]"
      ]
     },
     "execution_count": 8,
     "metadata": {},
     "output_type": "execute_result"
    }
   ],
   "source": [
    "# 1.3 \n",
    "\n",
    "\n",
    "list_of_names = [\"Lasse\", \"Daniel\", \"Artem\", \"Johnny\"] \n",
    "\n",
    "touple_list=[(len(value),value) for value in list_of_names]\n",
    "touple_list"
   ]
  },
  {
   "cell_type": "code",
   "execution_count": 4,
   "metadata": {},
   "outputs": [
    {
     "data": {
      "text/plain": [
       "[10, 4]"
      ]
     },
     "execution_count": 4,
     "metadata": {},
     "output_type": "execute_result"
    }
   ],
   "source": [
    "# 1.4\n",
    "\n",
    "str = \"10 drenge spillede fodbold på hold 4\"\n",
    "[int(s) for s in str.split() if s.isdigit()]\n"
   ]
  },
  {
   "cell_type": "code",
   "execution_count": 5,
   "metadata": {
    "scrolled": true
   },
   "outputs": [
    {
     "data": {
      "text/plain": [
       "['11',\n",
       " '12',\n",
       " '13',\n",
       " '14',\n",
       " '15',\n",
       " '16',\n",
       " '21',\n",
       " '22',\n",
       " '23',\n",
       " '24',\n",
       " '25',\n",
       " '26',\n",
       " '31',\n",
       " '32',\n",
       " '33',\n",
       " '34',\n",
       " '35',\n",
       " '36',\n",
       " '41',\n",
       " '42',\n",
       " '43',\n",
       " '44',\n",
       " '45',\n",
       " '46',\n",
       " '51',\n",
       " '52',\n",
       " '53',\n",
       " '54',\n",
       " '55',\n",
       " '56',\n",
       " '61',\n",
       " '62',\n",
       " '63',\n",
       " '64',\n",
       " '65',\n",
       " '66']"
      ]
     },
     "execution_count": 5,
     "metadata": {},
     "output_type": "execute_result"
    }
   ],
   "source": [
    "# 1.5 \n",
    "\n",
    "dice1 = [\"1\",\"2\",\"3\",\"4\",\"5\",\"6\"]\n",
    "dice2 = [\"1\",\"2\",\"3\",\"4\",\"5\",\"6\"]\n",
    "\n",
    "combo = [d1 + d2 for d1 in dice1 for d2 in dice2]\n",
    "combo\n",
    "\n"
   ]
  },
  {
   "cell_type": "markdown",
   "metadata": {},
   "source": [
    "## 04 Solution part 2"
   ]
  },
  {
   "cell_type": "code",
   "execution_count": 6,
   "metadata": {},
   "outputs": [
    {
     "name": "stdout",
     "output_type": "stream",
     "text": [
      "{4: 'Hans', 5: 'Grete', 6: 'Heksen'}\n"
     ]
    },
    {
     "data": {
      "text/plain": [
       "{4: 'Hans', 5: 'Grete', 6: 'Heksen'}"
      ]
     },
     "execution_count": 6,
     "metadata": {},
     "output_type": "execute_result"
    }
   ],
   "source": [
    "# 2.1\n",
    "\n",
    "names_list = [\"Hans\", \"Grete\", \"Heksen\"] \n",
    "\n",
    "mydict= {len(value): value for value in names_list} \n",
    "mydict\n"
   ]
  },
  {
   "cell_type": "code",
   "execution_count": 10,
   "metadata": {},
   "outputs": [
    {
     "name": "stdout",
     "output_type": "stream",
     "text": [
      "{2.0: 4, 2.449489742783178: 6, 2.8284271247461903: 8, 3.4641016151377544: 12, 3.7416573867739413: 14}\n"
     ]
    }
   ],
   "source": [
    "# 2.2\n",
    "\n",
    "import math\n",
    "number=[4,6,8,12,14]\n",
    "rootedNumber = []\n",
    "for value in number: rootedNumber.append(math.sqrt(value))\n",
    "numberList = dict(zip(rootedNumber, number))\n",
    "print(numberList)"
   ]
  },
  {
   "cell_type": "code",
   "execution_count": 11,
   "metadata": {},
   "outputs": [
    {
     "data": {
      "text/plain": [
       "{2: '2.7777777777777777%',\n",
       " 3: '5.555555555555555%',\n",
       " 4: '8.333333333333332%',\n",
       " 5: '11.11111111111111%',\n",
       " 6: '13.88888888888889%',\n",
       " 7: '16.666666666666664%',\n",
       " 8: '13.88888888888889%',\n",
       " 9: '11.11111111111111%',\n",
       " 10: '8.333333333333332%',\n",
       " 11: '5.555555555555555%',\n",
       " 12: '2.7777777777777777%'}"
      ]
     },
     "execution_count": 11,
     "metadata": {},
     "output_type": "execute_result"
    }
   ],
   "source": [
    "# 2.3 \n",
    "\n",
    "combinations=set([(x,y) for x in range(1,7) for y in range(1,7) ])\n",
    "total_combination={}\n",
    "\n",
    "for combo in combinations:\n",
    "    total_combination.setdefault(combo[0]+combo[1] ,0)\n",
    "    total_combination[combo[0]+combo[1]]+=1\n",
    "    \n",
    "#print(total_combination)\n",
    "key_list=list(total_combination.keys())   #otherwise I get an object dict_keys([4, 12, 11, 3, 8, 7, 6, 10, 9, 5, 2])\n",
    "#print(total_combination.keys())\n",
    "\n",
    "key_list.sort()\n",
    "#key_list_sum=sum(total_combination.values())\n",
    "#print(key_list_sum)\n",
    "\n",
    "\n",
    "total_likelyhood={}\n",
    "for key in key_list:\n",
    "    total_likelyhood[key]=str(total_combination.get(key,-1)/len(combinations)*100)+'%'\n",
    "\n",
    "total_likelyhood"
   ]
  }
 ],
 "metadata": {
  "kernelspec": {
   "display_name": "Python 3",
   "language": "python",
   "name": "python3"
  },
  "language_info": {
   "codemirror_mode": {
    "name": "ipython",
    "version": 3
   },
   "file_extension": ".py",
   "mimetype": "text/x-python",
   "name": "python",
   "nbconvert_exporter": "python",
   "pygments_lexer": "ipython3",
   "version": "3.7.6"
  }
 },
 "nbformat": 4,
 "nbformat_minor": 4
}
